{
 "cells": [
  {
   "cell_type": "code",
   "execution_count": 1,
   "metadata": {},
   "outputs": [],
   "source": [
    "import numpy as np\n",
    "import pandas as pd"
   ]
  },
  {
   "cell_type": "code",
   "execution_count": 2,
   "metadata": {},
   "outputs": [],
   "source": [
    "from subprocess import check_output\n",
    "import os, subprocess\n",
    "##print(os.listdir('C:\\Users\\hp')) "
   ]
  },
  {
   "cell_type": "code",
   "execution_count": 3,
   "metadata": {},
   "outputs": [
    {
     "name": "stderr",
     "output_type": "stream",
     "text": [
      "/home/lgriera/miniconda3/envs/keras-gpu/lib/python3.5/site-packages/h5py/__init__.py:36: FutureWarning: Conversion of the second argument of issubdtype from `float` to `np.floating` is deprecated. In future, it will be treated as `np.float64 == np.dtype(float).type`.\n",
      "  from ._conv import register_converters as _register_converters\n",
      "Using TensorFlow backend.\n"
     ]
    }
   ],
   "source": [
    "import matplotlib.pyplot as plt\n",
    "import numpy as np\n",
    "import time\n",
    "import csv \n",
    "from keras.layers.core import Dense, Activation, Dropout\n",
    "from keras.layers.recurrent import LSTM\n",
    "from keras.models import Sequential\n",
    "np.random.seed(1234)"
   ]
  },
  {
   "cell_type": "code",
   "execution_count": 4,
   "metadata": {},
   "outputs": [],
   "source": [
    "def data_power_consumption(path_to_dataset,\n",
    "                           sequence_length=50,\n",
    "                           ratio=1.0):\n",
    "    \n",
    "    max_values = ratio * 2049280\n",
    "    \n",
    "    with open(path_to_dataset) as f:\n",
    "        data = csv.reader(f, delimiter=';')\n",
    "        power = []\n",
    "        nb_of_values = 0\n",
    "        for line in data:\n",
    "            try:\n",
    "                power.append(float(line[2]))\n",
    "                nb_of_values += 1 \n",
    "            except ValueError:\n",
    "                pass\n",
    "            if nb_of_values >= max_values:\n",
    "                break\n",
    "                \n",
    "    print(\"Data loaded from csv. Formatting...\")\n",
    "    \n",
    "    result = []\n",
    "    for index in range(len(power) - sequence_length):\n",
    "        result.append(power[index: index+sequence_length])\n",
    "    result = np.array(result)\n",
    "    \n",
    "    result_mean = result.mean()\n",
    "    result -= result_mean\n",
    "    print(\"Shift :\", result_mean)\n",
    "    print(\"Data :\", result.shape)\n",
    "    \n",
    "    row = int(round(0.9 * result.shape[0]))\n",
    "    train = result[:row, :]\n",
    "    np.random.shuffle(train)\n",
    "    X_train = train[:, :-1]\n",
    "    y_train = train[:, -1]\n",
    "    X_test = result[row:, :-1]\n",
    "    y_test = result[row:, -1]\n",
    "    \n",
    "    X_train = np.reshape(X_train, (X_train.shape[0], X_train.shape[1], 1))\n",
    "    X_test = np.reshape(X_test, (X_test.shape[0], X_test.shape[1], 1))\n",
    "    \n",
    "    return [X_train, y_train, X_test, y_test]\n",
    "        "
   ]
  },
  {
   "cell_type": "code",
   "execution_count": 5,
   "metadata": {},
   "outputs": [],
   "source": [
    "def build_model():\n",
    "    model = Sequential()\n",
    "    layers = [1,50,100,1]\n",
    "    \n",
    "    model.add(LSTM(\n",
    "        layers[1],\n",
    "        input_shape=(None, layers[0]),\n",
    "        return_sequences=True))\n",
    "    model.add(Dropout(0.2))\n",
    "    \n",
    "    model.add(LSTM(\n",
    "        layers[2],\n",
    "        return_sequences=False))\n",
    "    model.add(Dropout(0.2))\n",
    "    \n",
    "    model.add(Dense(\n",
    "        layers[3]))\n",
    "    model.add(Activation(\"linear\"))\n",
    "    \n",
    "    start = time.time()\n",
    "    model.compile(loss=\"mse\", optimizer=\"rmsprop\", metrics=['accuracy'])\n",
    "    print (\"Compilation Time: \", time.time() - start)\n",
    "    return model"
   ]
  },
  {
   "cell_type": "code",
   "execution_count": 12,
   "metadata": {},
   "outputs": [],
   "source": [
    "PATH = '/home/lgriera/Documents/ME-592x/Assignments/Assignment_4/'\n",
    "file_name = 'household_power_consumption.txt'"
   ]
  },
  {
   "cell_type": "code",
   "execution_count": null,
   "metadata": {},
   "outputs": [],
   "source": []
  },
  {
   "cell_type": "code",
   "execution_count": 13,
   "metadata": {},
   "outputs": [],
   "source": [
    "def run_network(model=None, data=None):\n",
    "    global_start_time = time.time()\n",
    "    epochs = 1\n",
    "    ratio = 0.5\n",
    "    sequence_length = 50 \n",
    "    #path_to_dataset = r'C:\\Users\\hp\\household_power_consumption.txt'\n",
    "    path_to_dataset = PATH + file_name\n",
    "    \n",
    "    if data is None:\n",
    "        print('Loading data...')\n",
    "        X_train, y_train, X_test, y_test = data_power_consumption(\n",
    "            path_to_dataset, sequence_length, ratio)\n",
    "    else:\n",
    "            X_train, y_train. X_test, y_test = data\n",
    "        \n",
    "    print('\\nData Loaded. Compiling...\\n')\n",
    "        \n",
    "    if model is None:\n",
    "            model = build_model()\n",
    "    try:\n",
    "            model.fit(\n",
    "                X_train, y_train,\n",
    "                batch_size=512, nb_epoch=epochs, validation_split=0.05)\n",
    "            predicted = model.predict(X_test)\n",
    "            predicted = np.reshape(predicted, (predicted.size,))\n",
    "    except KerboardInterrupt:\n",
    "             print( 'Training duration (s) : ', time.time() - global_start_time)\n",
    "    return model, y_test, 0\n",
    "        \n",
    "    try:\n",
    "            fig = plt.figure(0)\n",
    "            ax = fig.add_subplot(111)\n",
    "            ax.plot(y_test[:100],'r')\n",
    "            plt.plot(predicted[:100],'b')\n",
    "            plt.show()\n",
    "    except Exception as e:\n",
    "            print (str(e))\n",
    "            print ('Training duration (s) : ', time.time() - global_start_time)\n",
    "    \n",
    "    return model, y_test, predicted\n",
    "    \n",
    "    "
   ]
  },
  {
   "cell_type": "code",
   "execution_count": 14,
   "metadata": {},
   "outputs": [
    {
     "name": "stdout",
     "output_type": "stream",
     "text": [
      "Loading data...\n",
      "Data loaded from csv. Formatting...\n",
      "Shift : 1.1030964434554305\n",
      "Data : (1024590, 50)\n",
      "\n",
      "Data Loaded. Compiling...\n",
      "\n",
      "Compilation Time:  0.019842147827148438\n"
     ]
    },
    {
     "name": "stderr",
     "output_type": "stream",
     "text": [
      "/home/lgriera/miniconda3/envs/keras-gpu/lib/python3.5/site-packages/keras/models.py:942: UserWarning: The `nb_epoch` argument in `fit` has been renamed `epochs`.\n",
      "  warnings.warn('The `nb_epoch` argument in `fit` '\n"
     ]
    },
    {
     "name": "stdout",
     "output_type": "stream",
     "text": [
      "Train on 876024 samples, validate on 46107 samples\n",
      "Epoch 1/1\n",
      "876024/876024 [==============================] - 271s 310us/step - loss: 0.1003 - acc: 0.0000e+00 - val_loss: 0.0773 - val_acc: 0.0000e+00\n"
     ]
    },
    {
     "data": {
      "text/plain": [
       "(<keras.models.Sequential at 0x7f351f920c50>,\n",
       " array([1.33890356, 1.33090356, 1.33290356, ..., 0.22090356, 0.21690356,\n",
       "        0.20090356]),\n",
       " 0)"
      ]
     },
     "execution_count": 14,
     "metadata": {},
     "output_type": "execute_result"
    }
   ],
   "source": [
    "run_network()"
   ]
  },
  {
   "cell_type": "code",
   "execution_count": null,
   "metadata": {},
   "outputs": [],
   "source": [
    "from keras.utils import plot_model\n",
    "plot_model(model, to_file='model.png')"
   ]
  }
 ],
 "metadata": {
  "kernelspec": {
   "display_name": "Python 3",
   "language": "python",
   "name": "python3"
  },
  "language_info": {
   "codemirror_mode": {
    "name": "ipython",
    "version": 3
   },
   "file_extension": ".py",
   "mimetype": "text/x-python",
   "name": "python",
   "nbconvert_exporter": "python",
   "pygments_lexer": "ipython3",
   "version": "3.5.4"
  }
 },
 "nbformat": 4,
 "nbformat_minor": 2
}
