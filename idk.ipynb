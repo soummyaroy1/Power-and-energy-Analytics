{
 "cells": [
  {
   "cell_type": "code",
   "execution_count": 1,
   "metadata": {
    "collapsed": true
   },
   "outputs": [],
   "source": [
    "import pandas as pd\n",
    "from scipy import signal\n",
    "import numpy as np\n",
    "import matplotlib.pyplot as plt\n",
    "\n",
    "import datetime\n",
    "import pywt\n",
    "\n",
    "import glob\n",
    "import os"
   ]
  },
  {
   "cell_type": "code",
   "execution_count": 2,
   "metadata": {
    "collapsed": true
   },
   "outputs": [],
   "source": [
    "def concat_data(path, usecolums=None):\n",
    "    allFiles = glob.glob(path + \"/*.csv\")\n",
    "    frame = pd.DataFrame()\n",
    "    list_ = []\n",
    "    for file_ in allFiles:\n",
    "        df = pd.read_csv(file_,header=0, usecols=usecolums)\n",
    "        dirname,filename = os.path.split(file_)\n",
    "        df.columns = [filename[0:10]]\n",
    "        list_.append(df)\n",
    "        frame = pd.concat(list_, axis=1)\n",
    "    return frame"
   ]
  },
  {
   "cell_type": "code",
   "execution_count": 3,
   "metadata": {
    "collapsed": true
   },
   "outputs": [],
   "source": [
    "path = \"C:\\Users\\hp\\Desktop\\ME 592X\\Assignment 3\\house_02_sm_JAN\"\n",
    "\n",
    "# Smart Meter Dataframe\n",
    "sm_df = concat_data(path,usecolums=[0])  \n"
   ]
  },
  {
   "cell_type": "code",
   "execution_count": 4,
   "metadata": {},
   "outputs": [
    {
     "data": {
      "text/html": [
       "<div>\n",
       "<style>\n",
       "    .dataframe thead tr:only-child th {\n",
       "        text-align: right;\n",
       "    }\n",
       "\n",
       "    .dataframe thead th {\n",
       "        text-align: left;\n",
       "    }\n",
       "\n",
       "    .dataframe tbody tr th {\n",
       "        vertical-align: top;\n",
       "    }\n",
       "</style>\n",
       "<table border=\"1\" class=\"dataframe\">\n",
       "  <thead>\n",
       "    <tr style=\"text-align: right;\">\n",
       "      <th></th>\n",
       "      <th>2013-01-01</th>\n",
       "      <th>2013-01-02</th>\n",
       "      <th>2013-01-03</th>\n",
       "      <th>2013-01-04</th>\n",
       "      <th>2013-01-05</th>\n",
       "      <th>2013-01-06</th>\n",
       "      <th>2013-01-07</th>\n",
       "      <th>2013-01-08</th>\n",
       "      <th>2013-01-09</th>\n",
       "      <th>2013-01-10</th>\n",
       "      <th>...</th>\n",
       "      <th>2013-01-22</th>\n",
       "      <th>2013-01-23</th>\n",
       "      <th>2013-01-24</th>\n",
       "      <th>2013-01-25</th>\n",
       "      <th>2013-01-26</th>\n",
       "      <th>2013-01-27</th>\n",
       "      <th>2013-01-28</th>\n",
       "      <th>2013-01-29</th>\n",
       "      <th>2013-01-30</th>\n",
       "      <th>2013-01-31</th>\n",
       "    </tr>\n",
       "  </thead>\n",
       "  <tbody>\n",
       "    <tr>\n",
       "      <th>0</th>\n",
       "      <td>37.544</td>\n",
       "      <td>120.440</td>\n",
       "      <td>109.811</td>\n",
       "      <td>106.245</td>\n",
       "      <td>402.795</td>\n",
       "      <td>37.478</td>\n",
       "      <td>37.573</td>\n",
       "      <td>41.460</td>\n",
       "      <td>91.396</td>\n",
       "      <td>107.039</td>\n",
       "      <td>...</td>\n",
       "      <td>89.952</td>\n",
       "      <td>117.570</td>\n",
       "      <td>92.064</td>\n",
       "      <td>112.409</td>\n",
       "      <td>503.561</td>\n",
       "      <td>37.770</td>\n",
       "      <td>113.491</td>\n",
       "      <td>107.811</td>\n",
       "      <td>90.454</td>\n",
       "      <td>91.360</td>\n",
       "    </tr>\n",
       "    <tr>\n",
       "      <th>1</th>\n",
       "      <td>37.195</td>\n",
       "      <td>119.115</td>\n",
       "      <td>109.756</td>\n",
       "      <td>106.174</td>\n",
       "      <td>403.232</td>\n",
       "      <td>37.505</td>\n",
       "      <td>37.474</td>\n",
       "      <td>41.252</td>\n",
       "      <td>90.727</td>\n",
       "      <td>107.007</td>\n",
       "      <td>...</td>\n",
       "      <td>90.224</td>\n",
       "      <td>117.944</td>\n",
       "      <td>92.576</td>\n",
       "      <td>112.922</td>\n",
       "      <td>503.495</td>\n",
       "      <td>37.587</td>\n",
       "      <td>113.486</td>\n",
       "      <td>106.677</td>\n",
       "      <td>90.054</td>\n",
       "      <td>91.087</td>\n",
       "    </tr>\n",
       "    <tr>\n",
       "      <th>2</th>\n",
       "      <td>37.491</td>\n",
       "      <td>116.959</td>\n",
       "      <td>109.611</td>\n",
       "      <td>106.515</td>\n",
       "      <td>404.003</td>\n",
       "      <td>37.598</td>\n",
       "      <td>37.187</td>\n",
       "      <td>41.397</td>\n",
       "      <td>90.804</td>\n",
       "      <td>106.759</td>\n",
       "      <td>...</td>\n",
       "      <td>89.820</td>\n",
       "      <td>117.592</td>\n",
       "      <td>92.380</td>\n",
       "      <td>112.134</td>\n",
       "      <td>506.624</td>\n",
       "      <td>37.714</td>\n",
       "      <td>113.217</td>\n",
       "      <td>106.182</td>\n",
       "      <td>90.488</td>\n",
       "      <td>90.826</td>\n",
       "    </tr>\n",
       "    <tr>\n",
       "      <th>3</th>\n",
       "      <td>37.911</td>\n",
       "      <td>115.366</td>\n",
       "      <td>109.514</td>\n",
       "      <td>106.261</td>\n",
       "      <td>402.990</td>\n",
       "      <td>37.300</td>\n",
       "      <td>37.401</td>\n",
       "      <td>41.003</td>\n",
       "      <td>91.428</td>\n",
       "      <td>106.786</td>\n",
       "      <td>...</td>\n",
       "      <td>89.451</td>\n",
       "      <td>116.246</td>\n",
       "      <td>92.394</td>\n",
       "      <td>112.287</td>\n",
       "      <td>503.506</td>\n",
       "      <td>37.237</td>\n",
       "      <td>113.111</td>\n",
       "      <td>105.383</td>\n",
       "      <td>90.444</td>\n",
       "      <td>91.136</td>\n",
       "    </tr>\n",
       "    <tr>\n",
       "      <th>4</th>\n",
       "      <td>37.385</td>\n",
       "      <td>115.348</td>\n",
       "      <td>109.614</td>\n",
       "      <td>106.213</td>\n",
       "      <td>402.466</td>\n",
       "      <td>37.319</td>\n",
       "      <td>37.309</td>\n",
       "      <td>41.165</td>\n",
       "      <td>90.518</td>\n",
       "      <td>107.114</td>\n",
       "      <td>...</td>\n",
       "      <td>89.938</td>\n",
       "      <td>115.583</td>\n",
       "      <td>92.190</td>\n",
       "      <td>112.253</td>\n",
       "      <td>503.480</td>\n",
       "      <td>37.372</td>\n",
       "      <td>112.991</td>\n",
       "      <td>105.116</td>\n",
       "      <td>90.462</td>\n",
       "      <td>91.145</td>\n",
       "    </tr>\n",
       "  </tbody>\n",
       "</table>\n",
       "<p>5 rows × 31 columns</p>\n",
       "</div>"
      ],
      "text/plain": [
       "   2013-01-01  2013-01-02  2013-01-03  2013-01-04  2013-01-05  2013-01-06  \\\n",
       "0      37.544     120.440     109.811     106.245     402.795      37.478   \n",
       "1      37.195     119.115     109.756     106.174     403.232      37.505   \n",
       "2      37.491     116.959     109.611     106.515     404.003      37.598   \n",
       "3      37.911     115.366     109.514     106.261     402.990      37.300   \n",
       "4      37.385     115.348     109.614     106.213     402.466      37.319   \n",
       "\n",
       "   2013-01-07  2013-01-08  2013-01-09  2013-01-10     ...      2013-01-22  \\\n",
       "0      37.573      41.460      91.396     107.039     ...          89.952   \n",
       "1      37.474      41.252      90.727     107.007     ...          90.224   \n",
       "2      37.187      41.397      90.804     106.759     ...          89.820   \n",
       "3      37.401      41.003      91.428     106.786     ...          89.451   \n",
       "4      37.309      41.165      90.518     107.114     ...          89.938   \n",
       "\n",
       "   2013-01-23  2013-01-24  2013-01-25  2013-01-26  2013-01-27  2013-01-28  \\\n",
       "0     117.570      92.064     112.409     503.561      37.770     113.491   \n",
       "1     117.944      92.576     112.922     503.495      37.587     113.486   \n",
       "2     117.592      92.380     112.134     506.624      37.714     113.217   \n",
       "3     116.246      92.394     112.287     503.506      37.237     113.111   \n",
       "4     115.583      92.190     112.253     503.480      37.372     112.991   \n",
       "\n",
       "   2013-01-29  2013-01-30  2013-01-31  \n",
       "0     107.811      90.454      91.360  \n",
       "1     106.677      90.054      91.087  \n",
       "2     106.182      90.488      90.826  \n",
       "3     105.383      90.444      91.136  \n",
       "4     105.116      90.462      91.145  \n",
       "\n",
       "[5 rows x 31 columns]"
      ]
     },
     "execution_count": 4,
     "metadata": {},
     "output_type": "execute_result"
    }
   ],
   "source": [
    "sm_df.head(5)"
   ]
  },
  {
   "cell_type": "code",
   "execution_count": 5,
   "metadata": {
    "collapsed": true
   },
   "outputs": [],
   "source": [
    "cols = list(sm_df.columns)\n",
    "\n",
    "date = []\n",
    "\n",
    "for col in cols:\n",
    "     for sec in range(0, 86400):\n",
    "        date.append(col + \" \" + str(datetime.timedelta(seconds=sec))) # Append formatted Timestamp\n",
    "        \n",
    "df1 = pd.DataFrame(data=date)  # Creating a 1-D dataframe with the timestamp\n"
   ]
  },
  {
   "cell_type": "code",
   "execution_count": 6,
   "metadata": {
    "collapsed": true
   },
   "outputs": [],
   "source": [
    "reshape_sm_df = sm_df.values.reshape(2678369,1)\n",
    "df2 = pd.DataFrame(reshape_sm_df)"
   ]
  },
  {
   "cell_type": "code",
   "execution_count": 7,
   "metadata": {},
   "outputs": [
    {
     "data": {
      "text/html": [
       "<div>\n",
       "<style>\n",
       "    .dataframe thead tr:only-child th {\n",
       "        text-align: right;\n",
       "    }\n",
       "\n",
       "    .dataframe thead th {\n",
       "        text-align: left;\n",
       "    }\n",
       "\n",
       "    .dataframe tbody tr th {\n",
       "        vertical-align: top;\n",
       "    }\n",
       "</style>\n",
       "<table border=\"1\" class=\"dataframe\">\n",
       "  <thead>\n",
       "    <tr style=\"text-align: right;\">\n",
       "      <th></th>\n",
       "      <th>Timestamp</th>\n",
       "      <th>Power</th>\n",
       "    </tr>\n",
       "  </thead>\n",
       "  <tbody>\n",
       "    <tr>\n",
       "      <th>0</th>\n",
       "      <td>2013-01-01 0:00:00</td>\n",
       "      <td>37.544</td>\n",
       "    </tr>\n",
       "    <tr>\n",
       "      <th>1</th>\n",
       "      <td>2013-01-01 0:00:01</td>\n",
       "      <td>120.440</td>\n",
       "    </tr>\n",
       "    <tr>\n",
       "      <th>2</th>\n",
       "      <td>2013-01-01 0:00:02</td>\n",
       "      <td>109.811</td>\n",
       "    </tr>\n",
       "    <tr>\n",
       "      <th>3</th>\n",
       "      <td>2013-01-01 0:00:03</td>\n",
       "      <td>106.245</td>\n",
       "    </tr>\n",
       "    <tr>\n",
       "      <th>4</th>\n",
       "      <td>2013-01-01 0:00:04</td>\n",
       "      <td>402.795</td>\n",
       "    </tr>\n",
       "  </tbody>\n",
       "</table>\n",
       "</div>"
      ],
      "text/plain": [
       "            Timestamp    Power\n",
       "0  2013-01-01 0:00:00   37.544\n",
       "1  2013-01-01 0:00:01  120.440\n",
       "2  2013-01-01 0:00:02  109.811\n",
       "3  2013-01-01 0:00:03  106.245\n",
       "4  2013-01-01 0:00:04  402.795"
      ]
     },
     "execution_count": 7,
     "metadata": {},
     "output_type": "execute_result"
    }
   ],
   "source": [
    "# Merging the two 1-D dataframe\n",
    "frames = [df1, df2]\n",
    "sm_vec = pd.concat(frames, axis=1)\n",
    "sm_vec.columns=['Timestamp', 'Power']\n",
    "\n",
    "sm_vec.head()"
   ]
  },
  {
   "cell_type": "code",
   "execution_count": 8,
   "metadata": {
    "collapsed": true
   },
   "outputs": [],
   "source": [
    "path = \"C:\\Users\\hp\\Desktop\\ME 592X\\Assignment 3\\Fridge_JAN\"\n",
    "\n",
    "fridge_df = concat_data(path, usecolums=[0])"
   ]
  },
  {
   "cell_type": "code",
   "execution_count": 9,
   "metadata": {},
   "outputs": [
    {
     "data": {
      "text/html": [
       "<div>\n",
       "<style>\n",
       "    .dataframe thead tr:only-child th {\n",
       "        text-align: right;\n",
       "    }\n",
       "\n",
       "    .dataframe thead th {\n",
       "        text-align: left;\n",
       "    }\n",
       "\n",
       "    .dataframe tbody tr th {\n",
       "        vertical-align: top;\n",
       "    }\n",
       "</style>\n",
       "<table border=\"1\" class=\"dataframe\">\n",
       "  <thead>\n",
       "    <tr style=\"text-align: right;\">\n",
       "      <th></th>\n",
       "      <th>2012-06-01</th>\n",
       "      <th>2012-06-02</th>\n",
       "      <th>2012-06-03</th>\n",
       "      <th>2012-06-04</th>\n",
       "      <th>2012-06-05</th>\n",
       "      <th>2012-06-06</th>\n",
       "      <th>2012-06-07</th>\n",
       "      <th>2012-06-08</th>\n",
       "      <th>2012-06-09</th>\n",
       "      <th>2012-06-10</th>\n",
       "      <th>...</th>\n",
       "      <th>2013-01-22</th>\n",
       "      <th>2013-01-23</th>\n",
       "      <th>2013-01-24</th>\n",
       "      <th>2013-01-25</th>\n",
       "      <th>2013-01-26</th>\n",
       "      <th>2013-01-27</th>\n",
       "      <th>2013-01-28</th>\n",
       "      <th>2013-01-29</th>\n",
       "      <th>2013-01-30</th>\n",
       "      <th>2013-01-31</th>\n",
       "    </tr>\n",
       "  </thead>\n",
       "  <tbody>\n",
       "    <tr>\n",
       "      <th>0</th>\n",
       "      <td>4.32930</td>\n",
       "      <td>0.0</td>\n",
       "      <td>2.21504</td>\n",
       "      <td>0.00000</td>\n",
       "      <td>0.0</td>\n",
       "      <td>0.00000</td>\n",
       "      <td>0.00000</td>\n",
       "      <td>2.21504</td>\n",
       "      <td>2.21504</td>\n",
       "      <td>2.21504</td>\n",
       "      <td>...</td>\n",
       "      <td>0.00000</td>\n",
       "      <td>2.21504</td>\n",
       "      <td>0.00000</td>\n",
       "      <td>0.00000</td>\n",
       "      <td>0.00000</td>\n",
       "      <td>0.0</td>\n",
       "      <td>0.00000</td>\n",
       "      <td>2.21504</td>\n",
       "      <td>2.21504</td>\n",
       "      <td>2.21504</td>\n",
       "    </tr>\n",
       "    <tr>\n",
       "      <th>1</th>\n",
       "      <td>2.21504</td>\n",
       "      <td>0.0</td>\n",
       "      <td>0.00000</td>\n",
       "      <td>2.21504</td>\n",
       "      <td>0.0</td>\n",
       "      <td>0.00000</td>\n",
       "      <td>2.21504</td>\n",
       "      <td>0.00000</td>\n",
       "      <td>2.21504</td>\n",
       "      <td>2.21504</td>\n",
       "      <td>...</td>\n",
       "      <td>2.21504</td>\n",
       "      <td>0.00000</td>\n",
       "      <td>2.21504</td>\n",
       "      <td>2.21504</td>\n",
       "      <td>2.21504</td>\n",
       "      <td>0.0</td>\n",
       "      <td>2.21504</td>\n",
       "      <td>0.00000</td>\n",
       "      <td>2.21504</td>\n",
       "      <td>2.21504</td>\n",
       "    </tr>\n",
       "    <tr>\n",
       "      <th>2</th>\n",
       "      <td>2.21504</td>\n",
       "      <td>0.0</td>\n",
       "      <td>2.21504</td>\n",
       "      <td>0.00000</td>\n",
       "      <td>0.0</td>\n",
       "      <td>0.00000</td>\n",
       "      <td>2.21504</td>\n",
       "      <td>0.00000</td>\n",
       "      <td>2.21504</td>\n",
       "      <td>2.21504</td>\n",
       "      <td>...</td>\n",
       "      <td>0.00000</td>\n",
       "      <td>2.21504</td>\n",
       "      <td>2.21504</td>\n",
       "      <td>0.00000</td>\n",
       "      <td>0.00000</td>\n",
       "      <td>0.0</td>\n",
       "      <td>0.00000</td>\n",
       "      <td>2.21504</td>\n",
       "      <td>0.00000</td>\n",
       "      <td>4.32930</td>\n",
       "    </tr>\n",
       "    <tr>\n",
       "      <th>3</th>\n",
       "      <td>2.21504</td>\n",
       "      <td>0.0</td>\n",
       "      <td>0.00000</td>\n",
       "      <td>0.00000</td>\n",
       "      <td>0.0</td>\n",
       "      <td>2.21504</td>\n",
       "      <td>0.00000</td>\n",
       "      <td>0.00000</td>\n",
       "      <td>2.21504</td>\n",
       "      <td>2.21504</td>\n",
       "      <td>...</td>\n",
       "      <td>2.21504</td>\n",
       "      <td>0.00000</td>\n",
       "      <td>2.21504</td>\n",
       "      <td>2.21504</td>\n",
       "      <td>2.21504</td>\n",
       "      <td>0.0</td>\n",
       "      <td>2.21504</td>\n",
       "      <td>2.21504</td>\n",
       "      <td>0.00000</td>\n",
       "      <td>2.21504</td>\n",
       "    </tr>\n",
       "    <tr>\n",
       "      <th>4</th>\n",
       "      <td>2.21504</td>\n",
       "      <td>0.0</td>\n",
       "      <td>2.21504</td>\n",
       "      <td>0.00000</td>\n",
       "      <td>0.0</td>\n",
       "      <td>0.00000</td>\n",
       "      <td>0.00000</td>\n",
       "      <td>2.21504</td>\n",
       "      <td>2.21504</td>\n",
       "      <td>2.21504</td>\n",
       "      <td>...</td>\n",
       "      <td>0.00000</td>\n",
       "      <td>0.00000</td>\n",
       "      <td>0.00000</td>\n",
       "      <td>0.00000</td>\n",
       "      <td>0.00000</td>\n",
       "      <td>0.0</td>\n",
       "      <td>0.00000</td>\n",
       "      <td>0.00000</td>\n",
       "      <td>2.21504</td>\n",
       "      <td>2.21504</td>\n",
       "    </tr>\n",
       "  </tbody>\n",
       "</table>\n",
       "<p>5 rows × 240 columns</p>\n",
       "</div>"
      ],
      "text/plain": [
       "   2012-06-01  2012-06-02  2012-06-03  2012-06-04  2012-06-05  2012-06-06  \\\n",
       "0     4.32930         0.0     2.21504     0.00000         0.0     0.00000   \n",
       "1     2.21504         0.0     0.00000     2.21504         0.0     0.00000   \n",
       "2     2.21504         0.0     2.21504     0.00000         0.0     0.00000   \n",
       "3     2.21504         0.0     0.00000     0.00000         0.0     2.21504   \n",
       "4     2.21504         0.0     2.21504     0.00000         0.0     0.00000   \n",
       "\n",
       "   2012-06-07  2012-06-08  2012-06-09  2012-06-10     ...      2013-01-22  \\\n",
       "0     0.00000     2.21504     2.21504     2.21504     ...         0.00000   \n",
       "1     2.21504     0.00000     2.21504     2.21504     ...         2.21504   \n",
       "2     2.21504     0.00000     2.21504     2.21504     ...         0.00000   \n",
       "3     0.00000     0.00000     2.21504     2.21504     ...         2.21504   \n",
       "4     0.00000     2.21504     2.21504     2.21504     ...         0.00000   \n",
       "\n",
       "   2013-01-23  2013-01-24  2013-01-25  2013-01-26  2013-01-27  2013-01-28  \\\n",
       "0     2.21504     0.00000     0.00000     0.00000         0.0     0.00000   \n",
       "1     0.00000     2.21504     2.21504     2.21504         0.0     2.21504   \n",
       "2     2.21504     2.21504     0.00000     0.00000         0.0     0.00000   \n",
       "3     0.00000     2.21504     2.21504     2.21504         0.0     2.21504   \n",
       "4     0.00000     0.00000     0.00000     0.00000         0.0     0.00000   \n",
       "\n",
       "   2013-01-29  2013-01-30  2013-01-31  \n",
       "0     2.21504     2.21504     2.21504  \n",
       "1     0.00000     2.21504     2.21504  \n",
       "2     2.21504     0.00000     4.32930  \n",
       "3     2.21504     0.00000     2.21504  \n",
       "4     0.00000     2.21504     2.21504  \n",
       "\n",
       "[5 rows x 240 columns]"
      ]
     },
     "execution_count": 9,
     "metadata": {},
     "output_type": "execute_result"
    }
   ],
   "source": [
    "fridge_df.head(5)"
   ]
  },
  {
   "cell_type": "code",
   "execution_count": 10,
   "metadata": {
    "collapsed": true
   },
   "outputs": [],
   "source": [
    "new_fridge_df = fridge_df[fridge_df.columns[209:]]"
   ]
  },
  {
   "cell_type": "code",
   "execution_count": 11,
   "metadata": {},
   "outputs": [
    {
     "data": {
      "text/html": [
       "<div>\n",
       "<style>\n",
       "    .dataframe thead tr:only-child th {\n",
       "        text-align: right;\n",
       "    }\n",
       "\n",
       "    .dataframe thead th {\n",
       "        text-align: left;\n",
       "    }\n",
       "\n",
       "    .dataframe tbody tr th {\n",
       "        vertical-align: top;\n",
       "    }\n",
       "</style>\n",
       "<table border=\"1\" class=\"dataframe\">\n",
       "  <thead>\n",
       "    <tr style=\"text-align: right;\">\n",
       "      <th></th>\n",
       "      <th>2013-01-01</th>\n",
       "      <th>2013-01-02</th>\n",
       "      <th>2013-01-03</th>\n",
       "      <th>2013-01-04</th>\n",
       "      <th>2013-01-05</th>\n",
       "      <th>2013-01-06</th>\n",
       "      <th>2013-01-07</th>\n",
       "      <th>2013-01-08</th>\n",
       "      <th>2013-01-09</th>\n",
       "      <th>2013-01-10</th>\n",
       "      <th>...</th>\n",
       "      <th>2013-01-22</th>\n",
       "      <th>2013-01-23</th>\n",
       "      <th>2013-01-24</th>\n",
       "      <th>2013-01-25</th>\n",
       "      <th>2013-01-26</th>\n",
       "      <th>2013-01-27</th>\n",
       "      <th>2013-01-28</th>\n",
       "      <th>2013-01-29</th>\n",
       "      <th>2013-01-30</th>\n",
       "      <th>2013-01-31</th>\n",
       "    </tr>\n",
       "  </thead>\n",
       "  <tbody>\n",
       "    <tr>\n",
       "      <th>0</th>\n",
       "      <td>2.21504</td>\n",
       "      <td>2.21504</td>\n",
       "      <td>2.21504</td>\n",
       "      <td>2.21504</td>\n",
       "      <td>2.21504</td>\n",
       "      <td>2.21504</td>\n",
       "      <td>0.00000</td>\n",
       "      <td>0.00000</td>\n",
       "      <td>0.00000</td>\n",
       "      <td>0.00000</td>\n",
       "      <td>...</td>\n",
       "      <td>0.00000</td>\n",
       "      <td>2.21504</td>\n",
       "      <td>0.00000</td>\n",
       "      <td>0.00000</td>\n",
       "      <td>0.00000</td>\n",
       "      <td>0.0</td>\n",
       "      <td>0.00000</td>\n",
       "      <td>2.21504</td>\n",
       "      <td>2.21504</td>\n",
       "      <td>2.21504</td>\n",
       "    </tr>\n",
       "    <tr>\n",
       "      <th>1</th>\n",
       "      <td>2.21504</td>\n",
       "      <td>0.00000</td>\n",
       "      <td>0.00000</td>\n",
       "      <td>0.00000</td>\n",
       "      <td>2.21504</td>\n",
       "      <td>0.00000</td>\n",
       "      <td>0.00000</td>\n",
       "      <td>2.21504</td>\n",
       "      <td>2.21504</td>\n",
       "      <td>2.21504</td>\n",
       "      <td>...</td>\n",
       "      <td>2.21504</td>\n",
       "      <td>0.00000</td>\n",
       "      <td>2.21504</td>\n",
       "      <td>2.21504</td>\n",
       "      <td>2.21504</td>\n",
       "      <td>0.0</td>\n",
       "      <td>2.21504</td>\n",
       "      <td>0.00000</td>\n",
       "      <td>2.21504</td>\n",
       "      <td>2.21504</td>\n",
       "    </tr>\n",
       "    <tr>\n",
       "      <th>2</th>\n",
       "      <td>2.21504</td>\n",
       "      <td>2.21504</td>\n",
       "      <td>2.21504</td>\n",
       "      <td>2.21504</td>\n",
       "      <td>0.00000</td>\n",
       "      <td>2.21504</td>\n",
       "      <td>2.21504</td>\n",
       "      <td>0.00000</td>\n",
       "      <td>0.00000</td>\n",
       "      <td>0.00000</td>\n",
       "      <td>...</td>\n",
       "      <td>0.00000</td>\n",
       "      <td>2.21504</td>\n",
       "      <td>2.21504</td>\n",
       "      <td>0.00000</td>\n",
       "      <td>0.00000</td>\n",
       "      <td>0.0</td>\n",
       "      <td>0.00000</td>\n",
       "      <td>2.21504</td>\n",
       "      <td>0.00000</td>\n",
       "      <td>4.32930</td>\n",
       "    </tr>\n",
       "    <tr>\n",
       "      <th>3</th>\n",
       "      <td>0.00000</td>\n",
       "      <td>0.00000</td>\n",
       "      <td>0.00000</td>\n",
       "      <td>0.00000</td>\n",
       "      <td>2.21504</td>\n",
       "      <td>0.00000</td>\n",
       "      <td>2.21504</td>\n",
       "      <td>2.21504</td>\n",
       "      <td>2.21504</td>\n",
       "      <td>2.21504</td>\n",
       "      <td>...</td>\n",
       "      <td>2.21504</td>\n",
       "      <td>0.00000</td>\n",
       "      <td>2.21504</td>\n",
       "      <td>2.21504</td>\n",
       "      <td>2.21504</td>\n",
       "      <td>0.0</td>\n",
       "      <td>2.21504</td>\n",
       "      <td>2.21504</td>\n",
       "      <td>0.00000</td>\n",
       "      <td>2.21504</td>\n",
       "    </tr>\n",
       "    <tr>\n",
       "      <th>4</th>\n",
       "      <td>0.00000</td>\n",
       "      <td>2.21504</td>\n",
       "      <td>2.21504</td>\n",
       "      <td>2.21504</td>\n",
       "      <td>0.00000</td>\n",
       "      <td>2.21504</td>\n",
       "      <td>2.21504</td>\n",
       "      <td>2.21504</td>\n",
       "      <td>0.00000</td>\n",
       "      <td>0.00000</td>\n",
       "      <td>...</td>\n",
       "      <td>0.00000</td>\n",
       "      <td>0.00000</td>\n",
       "      <td>0.00000</td>\n",
       "      <td>0.00000</td>\n",
       "      <td>0.00000</td>\n",
       "      <td>0.0</td>\n",
       "      <td>0.00000</td>\n",
       "      <td>0.00000</td>\n",
       "      <td>2.21504</td>\n",
       "      <td>2.21504</td>\n",
       "    </tr>\n",
       "  </tbody>\n",
       "</table>\n",
       "<p>5 rows × 31 columns</p>\n",
       "</div>"
      ],
      "text/plain": [
       "   2013-01-01  2013-01-02  2013-01-03  2013-01-04  2013-01-05  2013-01-06  \\\n",
       "0     2.21504     2.21504     2.21504     2.21504     2.21504     2.21504   \n",
       "1     2.21504     0.00000     0.00000     0.00000     2.21504     0.00000   \n",
       "2     2.21504     2.21504     2.21504     2.21504     0.00000     2.21504   \n",
       "3     0.00000     0.00000     0.00000     0.00000     2.21504     0.00000   \n",
       "4     0.00000     2.21504     2.21504     2.21504     0.00000     2.21504   \n",
       "\n",
       "   2013-01-07  2013-01-08  2013-01-09  2013-01-10     ...      2013-01-22  \\\n",
       "0     0.00000     0.00000     0.00000     0.00000     ...         0.00000   \n",
       "1     0.00000     2.21504     2.21504     2.21504     ...         2.21504   \n",
       "2     2.21504     0.00000     0.00000     0.00000     ...         0.00000   \n",
       "3     2.21504     2.21504     2.21504     2.21504     ...         2.21504   \n",
       "4     2.21504     2.21504     0.00000     0.00000     ...         0.00000   \n",
       "\n",
       "   2013-01-23  2013-01-24  2013-01-25  2013-01-26  2013-01-27  2013-01-28  \\\n",
       "0     2.21504     0.00000     0.00000     0.00000         0.0     0.00000   \n",
       "1     0.00000     2.21504     2.21504     2.21504         0.0     2.21504   \n",
       "2     2.21504     2.21504     0.00000     0.00000         0.0     0.00000   \n",
       "3     0.00000     2.21504     2.21504     2.21504         0.0     2.21504   \n",
       "4     0.00000     0.00000     0.00000     0.00000         0.0     0.00000   \n",
       "\n",
       "   2013-01-29  2013-01-30  2013-01-31  \n",
       "0     2.21504     2.21504     2.21504  \n",
       "1     0.00000     2.21504     2.21504  \n",
       "2     2.21504     0.00000     4.32930  \n",
       "3     2.21504     0.00000     2.21504  \n",
       "4     0.00000     2.21504     2.21504  \n",
       "\n",
       "[5 rows x 31 columns]"
      ]
     },
     "execution_count": 11,
     "metadata": {},
     "output_type": "execute_result"
    }
   ],
   "source": [
    "new_fridge_df.head()"
   ]
  },
  {
   "cell_type": "code",
   "execution_count": 12,
   "metadata": {
    "collapsed": true
   },
   "outputs": [],
   "source": [
    "reshape_fridge_df = new_fridge_df.values.reshape(2678369,1)\n",
    "df2 = pd.DataFrame(reshape_fridge_df)"
   ]
  },
  {
   "cell_type": "code",
   "execution_count": 13,
   "metadata": {},
   "outputs": [
    {
     "data": {
      "text/html": [
       "<div>\n",
       "<style>\n",
       "    .dataframe thead tr:only-child th {\n",
       "        text-align: right;\n",
       "    }\n",
       "\n",
       "    .dataframe thead th {\n",
       "        text-align: left;\n",
       "    }\n",
       "\n",
       "    .dataframe tbody tr th {\n",
       "        vertical-align: top;\n",
       "    }\n",
       "</style>\n",
       "<table border=\"1\" class=\"dataframe\">\n",
       "  <thead>\n",
       "    <tr style=\"text-align: right;\">\n",
       "      <th></th>\n",
       "      <th>Timestamp</th>\n",
       "      <th>Power</th>\n",
       "    </tr>\n",
       "  </thead>\n",
       "  <tbody>\n",
       "    <tr>\n",
       "      <th>0</th>\n",
       "      <td>2013-01-01 0:00:00</td>\n",
       "      <td>2.21504</td>\n",
       "    </tr>\n",
       "    <tr>\n",
       "      <th>1</th>\n",
       "      <td>2013-01-01 0:00:01</td>\n",
       "      <td>2.21504</td>\n",
       "    </tr>\n",
       "    <tr>\n",
       "      <th>2</th>\n",
       "      <td>2013-01-01 0:00:02</td>\n",
       "      <td>2.21504</td>\n",
       "    </tr>\n",
       "    <tr>\n",
       "      <th>3</th>\n",
       "      <td>2013-01-01 0:00:03</td>\n",
       "      <td>2.21504</td>\n",
       "    </tr>\n",
       "    <tr>\n",
       "      <th>4</th>\n",
       "      <td>2013-01-01 0:00:04</td>\n",
       "      <td>2.21504</td>\n",
       "    </tr>\n",
       "  </tbody>\n",
       "</table>\n",
       "</div>"
      ],
      "text/plain": [
       "            Timestamp    Power\n",
       "0  2013-01-01 0:00:00  2.21504\n",
       "1  2013-01-01 0:00:01  2.21504\n",
       "2  2013-01-01 0:00:02  2.21504\n",
       "3  2013-01-01 0:00:03  2.21504\n",
       "4  2013-01-01 0:00:04  2.21504"
      ]
     },
     "execution_count": 13,
     "metadata": {},
     "output_type": "execute_result"
    }
   ],
   "source": [
    "frames = [df1, df2]\n",
    "fridge_vec = pd.concat(frames, axis=1)\n",
    "fridge_vec.columns=['Timestamp', 'Power']\n",
    "\n",
    "fridge_vec.head(5)"
   ]
  },
  {
   "cell_type": "code",
   "execution_count": 14,
   "metadata": {},
   "outputs": [
    {
     "data": {
      "text/plain": [
       "<matplotlib.axes._subplots.AxesSubplot at 0x1c4a79b0>"
      ]
     },
     "execution_count": 14,
     "metadata": {},
     "output_type": "execute_result"
    }
   ],
   "source": [
    "sm_vec.plot()"
   ]
  },
  {
   "cell_type": "code",
   "execution_count": 15,
   "metadata": {},
   "outputs": [
    {
     "data": {
      "image/png": "[encoded data removed]",
      "text/plain": [
       "<matplotlib.figure.Figure at 0xf134208>"
      ]
     },
     "metadata": {},
     "output_type": "display_data"
    }
   ],
   "source": [
    "plt.show()"
   ]
  },
  {
   "cell_type": "code",
   "execution_count": 16,
   "metadata": {},
   "outputs": [
    {
     "data": {
      "image/png": "[encoded data removed]",
      "text/plain": [
       "<matplotlib.figure.Figure at 0x1c480cc0>"
      ]
     },
     "metadata": {},
     "output_type": "display_data"
    }
   ],
   "source": [
    "fridge_vec.plot()\n",
    "plt.show()"
   ]
  },
  {
   "cell_type": "code",
   "execution_count": 17,
   "metadata": {
    "collapsed": true
   },
   "outputs": [],
   "source": [
    "sm_vec['Power'] = (sm_vec['Power']-sm_vec['Power'].mean())/(sm_vec['Power'].max()-sm_vec['Power'].min())"
   ]
  },
  {
   "cell_type": "code",
   "execution_count": 18,
   "metadata": {},
   "outputs": [
    {
     "data": {
      "text/plain": [
       "0   -0.028998\n",
       "1   -0.015458\n",
       "2   -0.017194\n",
       "3   -0.017777\n",
       "4    0.030660\n",
       "Name: Power, dtype: float64"
      ]
     },
     "execution_count": 18,
     "metadata": {},
     "output_type": "execute_result"
    }
   ],
   "source": [
    "sm_vec['Power'].head()"
   ]
  },
  {
   "cell_type": "code",
   "execution_count": 19,
   "metadata": {},
   "outputs": [
    {
     "data": {
      "image/png": "[encoded data removed]",
      "text/plain": [
       "<matplotlib.figure.Figure at 0x37bbb9b0>"
      ]
     },
     "metadata": {},
     "output_type": "display_data"
    }
   ],
   "source": [
    "sm_vec.plot()\n",
    "plt.show()"
   ]
  },
  {
   "cell_type": "code",
   "execution_count": 20,
   "metadata": {},
   "outputs": [
    {
     "data": {
      "image/png": "[encoded data removed]",
      "text/plain": [
       "<matplotlib.figure.Figure at 0x10b83128>"
      ]
     },
     "metadata": {},
     "output_type": "display_data"
    }
   ],
   "source": [
    "fridge_vec['Power'] = (fridge_vec['Power']-fridge_vec['Power'].mean())/(fridge_vec['Power'].max()-fridge_vec['Power'].min())\n",
    "fridge_vec.plot()\n",
    "plt.show()"
   ]
  },
  {
   "cell_type": "code",
   "execution_count": 21,
   "metadata": {
    "collapsed": true
   },
   "outputs": [],
   "source": [
    "cA_sm, cD_sm = pywt.dwt(sm_vec['Power'],'db1')"
   ]
  },
  {
   "cell_type": "code",
   "execution_count": 22,
   "metadata": {},
   "outputs": [
    {
     "data": {
      "image/png": "[encoded data removed]",
      "text/plain": [
       "<matplotlib.figure.Figure at 0x45c26940>"
      ]
     },
     "metadata": {},
     "output_type": "display_data"
    }
   ],
   "source": [
    "plt.plot(cA_sm)\n",
    "plt.show()"
   ]
  },
  {
   "cell_type": "code",
   "execution_count": 23,
   "metadata": {},
   "outputs": [
    {
     "data": {
      "image/png": "[encoded data removed]",
      "text/plain": [
       "<matplotlib.figure.Figure at 0x4dab2278>"
      ]
     },
     "metadata": {},
     "output_type": "display_data"
    }
   ],
   "source": [
    "cA_fr, cD_fr = pywt.dwt(fridge_vec['Power'],'db1')\n",
    "plt.plot(cA_sm)\n",
    "plt.show()"
   ]
  },
  {
   "cell_type": "markdown",
   "metadata": {},
   "source": [
    "# Train and Test sets"
   ]
  },
  {
   "cell_type": "code",
   "execution_count": 24,
   "metadata": {
    "collapsed": true
   },
   "outputs": [],
   "source": [
    "from sklearn.model_selection import train_test_split\n",
    "\n",
    "train_sm, test_sm = train_test_split(sm_vec, test_size=0.2)\n",
    "train_fr, test_fr = train_test_split(fridge_vec, test_size=0.2)"
   ]
  },
  {
   "cell_type": "code",
   "execution_count": 24,
   "metadata": {},
   "outputs": [
    {
     "data": {
      "text/html": [
       "<div>\n",
       "<style>\n",
       "    .dataframe thead tr:only-child th {\n",
       "        text-align: right;\n",
       "    }\n",
       "\n",
       "    .dataframe thead th {\n",
       "        text-align: left;\n",
       "    }\n",
       "\n",
       "    .dataframe tbody tr th {\n",
       "        vertical-align: top;\n",
       "    }\n",
       "</style>\n",
       "<table border=\"1\" class=\"dataframe\">\n",
       "  <thead>\n",
       "    <tr style=\"text-align: right;\">\n",
       "      <th></th>\n",
       "      <th>Timestamp</th>\n",
       "      <th>Power</th>\n",
       "    </tr>\n",
       "  </thead>\n",
       "  <tbody>\n",
       "    <tr>\n",
       "      <th>822581</th>\n",
       "      <td>2013-01-10 12:29:41</td>\n",
       "      <td>-0.115776</td>\n",
       "    </tr>\n",
       "    <tr>\n",
       "      <th>1892947</th>\n",
       "      <td>2013-01-22 21:49:07</td>\n",
       "      <td>-0.115776</td>\n",
       "    </tr>\n",
       "    <tr>\n",
       "      <th>1372032</th>\n",
       "      <td>2013-01-16 21:07:12</td>\n",
       "      <td>0.115976</td>\n",
       "    </tr>\n",
       "    <tr>\n",
       "      <th>1521113</th>\n",
       "      <td>2013-01-18 14:31:53</td>\n",
       "      <td>0.115976</td>\n",
       "    </tr>\n",
       "    <tr>\n",
       "      <th>1116008</th>\n",
       "      <td>2013-01-13 22:00:08</td>\n",
       "      <td>0.115976</td>\n",
       "    </tr>\n",
       "  </tbody>\n",
       "</table>\n",
       "</div>"
      ],
      "text/plain": [
       "                   Timestamp     Power\n",
       "822581   2013-01-10 12:29:41 -0.115776\n",
       "1892947  2013-01-22 21:49:07 -0.115776\n",
       "1372032  2013-01-16 21:07:12  0.115976\n",
       "1521113  2013-01-18 14:31:53  0.115976\n",
       "1116008  2013-01-13 22:00:08  0.115976"
      ]
     },
     "execution_count": 24,
     "metadata": {},
     "output_type": "execute_result"
    }
   ],
   "source": [
    "train_fr.head()"
   ]
  },
  {
   "cell_type": "markdown",
   "metadata": {},
   "source": [
    "# Design and Train HMM"
   ]
  },
  {
   "cell_type": "code",
   "execution_count": 25,
   "metadata": {
    "collapsed": true
   },
   "outputs": [],
   "source": [
    "from nltk.corpus import treebank\n",
    "from nltk.tag import hmm"
   ]
  },
  {
   "cell_type": "code",
   "execution_count": 30,
   "metadata": {
    "collapsed": true
   },
   "outputs": [],
   "source": [
    "variability_indicators = [fridge_vec['Power'].std()]"
   ]
  },
  {
   "cell_type": "code",
   "execution_count": 26,
   "metadata": {
    "collapsed": true
   },
   "outputs": [],
   "source": [
    "import numpy as np\n",
    "from hmmlearn import hmm"
   ]
  },
  {
   "cell_type": "code",
   "execution_count": 27,
   "metadata": {
    "collapsed": true
   },
   "outputs": [],
   "source": [
    "np.random.seed(5)\n",
    "model = hmm.GaussianHMM(n_components=2, )"
   ]
  },
  {
   "cell_type": "code",
   "execution_count": null,
   "metadata": {
    "collapsed": true
   },
   "outputs": [],
   "source": []
  }
 ],
 "metadata": {
  "kernelspec": {
   "display_name": "Python 2",
   "language": "python",
   "name": "python2"
  },
  "language_info": {
   "codemirror_mode": {
    "name": "ipython",
    "version": 2
   },
   "file_extension": ".py",
   "mimetype": "text/x-python",
   "name": "python",
   "nbconvert_exporter": "python",
   "pygments_lexer": "ipython2",
   "version": "2.7.14"
  }
 },
 "nbformat": 4,
 "nbformat_minor": 2
}
